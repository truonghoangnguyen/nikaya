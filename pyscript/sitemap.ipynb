{
 "cells": [
  {
   "cell_type": "code",
   "execution_count": 1,
   "metadata": {},
   "outputs": [],
   "source": [
    "import xml.etree.ElementTree as ET\n",
    "\n",
    "def split_sitemap(input_file, output_files, num_splits):\n",
    "    tree = ET.parse(input_file)\n",
    "    root = tree.getroot()\n",
    "    urls = root.findall('{http://www.sitemaps.org/schemas/sitemap/0.9}url')\n",
    "    \n",
    "    split_size = len(urls) // num_splits\n",
    "    for i in range(num_splits):\n",
    "        start = i * split_size\n",
    "        end = (i + 1) * split_size if i != num_splits - 1 else len(urls)\n",
    "        \n",
    "        new_root = ET.Element(root.tag, root.attrib)\n",
    "        for url in urls[start:end]:\n",
    "            new_root.append(url)\n",
    "        \n",
    "        new_tree = ET.ElementTree(new_root)\n",
    "        new_tree.write(output_files[i], encoding='utf-8', xml_declaration=True)\n",
    "\n",
    "\n",
    "input_file = '/Users/work/projects/nikaya/public/sitemap.xml'\n",
    "output_files = [\n",
    "    '/Users/work/projects/nikaya/public/sitemap1.xml',\n",
    "    '/Users/work/projects/nikaya/public/sitemap2.xml',\n",
    "    '/Users/work/projects/nikaya/public/sitemap3.xml',\n",
    "    '/Users/work/projects/nikaya/public/sitemap4.xml',\n",
    "    '/Users/work/projects/nikaya/public/sitemap5.xml'\n",
    "]\n",
    "num_splits = 5\n",
    "split_sitemap(input_file, output_files, num_splits)"
   ]
  }
 ],
 "metadata": {
  "kernelspec": {
   "display_name": "Python 3",
   "language": "python",
   "name": "python3"
  },
  "language_info": {
   "codemirror_mode": {
    "name": "ipython",
    "version": 3
   },
   "file_extension": ".py",
   "mimetype": "text/x-python",
   "name": "python",
   "nbconvert_exporter": "python",
   "pygments_lexer": "ipython3",
   "version": "3.11.6"
  }
 },
 "nbformat": 4,
 "nbformat_minor": 2
}
